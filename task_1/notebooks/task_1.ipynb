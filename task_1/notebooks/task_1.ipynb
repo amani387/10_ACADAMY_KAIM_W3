{
 "cells": [
  {
   "cell_type": "code",
   "execution_count": 4,
   "metadata": {},
   "outputs": [
    {
     "name": "stderr",
     "output_type": "stream",
     "text": [
      "C:\\Users\\kingsta\\AppData\\Local\\Temp\\ipykernel_17512\\109338115.py:2: DtypeWarning: Columns (32,37) have mixed types. Specify dtype option on import or set low_memory=False.\n",
      "  data = pd.read_csv(r'C:\\Users\\kingsta\\Desktop\\Week3\\10_ACADAMY_KAIM_W3\\task_1\\data\\machinelearning.csv')  # Update with actual file name\n"
     ]
    },
    {
     "name": "stdout",
     "output_type": "stream",
     "text": [
      "<class 'pandas.core.frame.DataFrame'>\n",
      "RangeIndex: 1000098 entries, 0 to 1000097\n",
      "Data columns (total 52 columns):\n",
      " #   Column                    Non-Null Count    Dtype  \n",
      "---  ------                    --------------    -----  \n",
      " 0   UnderwrittenCoverID       1000098 non-null  int64  \n",
      " 1   PolicyID                  1000098 non-null  int64  \n",
      " 2   TransactionMonth          1000098 non-null  object \n",
      " 3   IsVATRegistered           1000098 non-null  bool   \n",
      " 4   Citizenship               1000098 non-null  object \n",
      " 5   LegalType                 1000098 non-null  object \n",
      " 6   Title                     1000098 non-null  object \n",
      " 7   Language                  1000098 non-null  object \n",
      " 8   Bank                      854137 non-null   object \n",
      " 9   AccountType               959866 non-null   object \n",
      " 10  MaritalStatus             991839 non-null   object \n",
      " 11  Gender                    990562 non-null   object \n",
      " 12  Country                   1000098 non-null  object \n",
      " 13  Province                  1000098 non-null  object \n",
      " 14  PostalCode                1000098 non-null  int64  \n",
      " 15  MainCrestaZone            1000098 non-null  object \n",
      " 16  SubCrestaZone             1000098 non-null  object \n",
      " 17  ItemType                  1000098 non-null  object \n",
      " 18  mmcode                    999546 non-null   float64\n",
      " 19  VehicleType               999546 non-null   object \n",
      " 20  RegistrationYear          1000098 non-null  int64  \n",
      " 21  make                      999546 non-null   object \n",
      " 22  Model                     999546 non-null   object \n",
      " 23  Cylinders                 999546 non-null   float64\n",
      " 24  cubiccapacity             999546 non-null   float64\n",
      " 25  kilowatts                 999546 non-null   float64\n",
      " 26  bodytype                  999546 non-null   object \n",
      " 27  NumberOfDoors             999546 non-null   float64\n",
      " 28  VehicleIntroDate          999546 non-null   object \n",
      " 29  CustomValueEstimate       220456 non-null   float64\n",
      " 30  AlarmImmobiliser          1000098 non-null  object \n",
      " 31  TrackingDevice            1000098 non-null  object \n",
      " 32  CapitalOutstanding        1000096 non-null  object \n",
      " 33  NewVehicle                846803 non-null   object \n",
      " 34  WrittenOff                358197 non-null   object \n",
      " 35  Rebuilt                   358197 non-null   object \n",
      " 36  Converted                 358197 non-null   object \n",
      " 37  CrossBorder               698 non-null      object \n",
      " 38  NumberOfVehiclesInFleet   0 non-null        float64\n",
      " 39  SumInsured                1000098 non-null  float64\n",
      " 40  TermFrequency             1000098 non-null  object \n",
      " 41  CalculatedPremiumPerTerm  1000098 non-null  float64\n",
      " 42  ExcessSelected            1000098 non-null  object \n",
      " 43  CoverCategory             1000098 non-null  object \n",
      " 44  CoverType                 1000098 non-null  object \n",
      " 45  CoverGroup                1000098 non-null  object \n",
      " 46  Section                   1000098 non-null  object \n",
      " 47  Product                   1000098 non-null  object \n",
      " 48  StatutoryClass            1000098 non-null  object \n",
      " 49  StatutoryRiskType         1000098 non-null  object \n",
      " 50  TotalPremium              1000098 non-null  float64\n",
      " 51  TotalClaims               1000098 non-null  float64\n",
      "dtypes: bool(1), float64(11), int64(4), object(36)\n",
      "memory usage: 390.1+ MB\n",
      "None\n",
      "       UnderwrittenCoverID      PolicyID    PostalCode        mmcode  \\\n",
      "count         1.000098e+06  1.000098e+06  1.000098e+06  9.995460e+05   \n",
      "mean          1.048175e+05  7.956682e+03  3.020601e+03  5.487770e+07   \n",
      "std           6.329371e+04  5.290039e+03  2.649854e+03  1.360381e+07   \n",
      "min           1.000000e+00  1.400000e+01  1.000000e+00  4.041200e+06   \n",
      "25%           5.514300e+04  4.500000e+03  8.270000e+02  6.005692e+07   \n",
      "50%           9.408300e+04  7.071000e+03  2.000000e+03  6.005842e+07   \n",
      "75%           1.391900e+05  1.107700e+04  4.180000e+03  6.005842e+07   \n",
      "max           3.011750e+05  2.324600e+04  9.870000e+03  6.506535e+07   \n",
      "\n",
      "       RegistrationYear      Cylinders  cubiccapacity      kilowatts  \\\n",
      "count      1.000098e+06  999546.000000  999546.000000  999546.000000   \n",
      "mean       2.010225e+03       4.046642    2466.743258      97.207919   \n",
      "std        3.261391e+00       0.294020     442.800640      19.393256   \n",
      "min        1.987000e+03       0.000000       0.000000       0.000000   \n",
      "25%        2.008000e+03       4.000000    2237.000000      75.000000   \n",
      "50%        2.011000e+03       4.000000    2694.000000     111.000000   \n",
      "75%        2.013000e+03       4.000000    2694.000000     111.000000   \n",
      "max        2.015000e+03      10.000000   12880.000000     309.000000   \n",
      "\n",
      "       NumberOfDoors  CustomValueEstimate  NumberOfVehiclesInFleet  \\\n",
      "count  999546.000000         2.204560e+05                      0.0   \n",
      "mean        4.019250         2.255311e+05                      NaN   \n",
      "std         0.468314         5.645157e+05                      NaN   \n",
      "min         0.000000         2.000000e+04                      NaN   \n",
      "25%         4.000000         1.350000e+05                      NaN   \n",
      "50%         4.000000         2.200000e+05                      NaN   \n",
      "75%         4.000000         2.800000e+05                      NaN   \n",
      "max         6.000000         2.655000e+07                      NaN   \n",
      "\n",
      "         SumInsured  CalculatedPremiumPerTerm  TotalPremium   TotalClaims  \n",
      "count  1.000098e+06              1.000098e+06  1.000098e+06  1.000098e+06  \n",
      "mean   6.041727e+05              1.178757e+02  6.190550e+01  6.486119e+01  \n",
      "std    1.508332e+06              3.997017e+02  2.302845e+02  2.384075e+03  \n",
      "min    1.000000e-02              0.000000e+00 -7.825768e+02 -1.200241e+04  \n",
      "25%    5.000000e+03              3.224800e+00  0.000000e+00  0.000000e+00  \n",
      "50%    7.500000e+03              8.436900e+00  2.178333e+00  0.000000e+00  \n",
      "75%    2.500000e+05              9.000000e+01  2.192982e+01  0.000000e+00  \n",
      "max    1.263620e+07              7.442217e+04  6.528260e+04  3.930921e+05  \n"
     ]
    }
   ],
   "source": [
    "import pandas as pd\n",
    "data = pd.read_csv(r'C:\\Users\\kingsta\\Desktop\\Week3\\10_ACADAMY_KAIM_W3\\task_1\\data\\machinelearning.csv')  # Update with actual file name\n",
    "print(data.info())\n",
    "print(data.describe())\n"
   ]
  },
  {
   "cell_type": "code",
   "execution_count": 7,
   "metadata": {},
   "outputs": [],
   "source": [
    "import sys\n",
    "import os\n",
    "\n",
    "# Get the parent directory\n",
    "parent_dir = os.path.abspath(os.path.join(os.getcwd(), \"..\"))\n",
    "scripts_path = os.path.join(parent_dir, \"scripts\")\n",
    "\n",
    "# Add 'scripts' to the system path\n",
    "sys.path.append(scripts_path)\n"
   ]
  },
  {
   "cell_type": "code",
   "execution_count": 12,
   "metadata": {},
   "outputs": [
    {
     "name": "stdout",
     "output_type": "stream",
     "text": [
      "Scripts Path: c:\\Users\\kingsta\\Desktop\\Week3\\10_ACADAMY_KAIM_W3\\task_1\\scripts\n"
     ]
    }
   ],
   "source": [
    "import pandas as pd\n",
    "import sys\n",
    "import os\n",
    "\n",
    "# Get the parent directory of the current notebook's folder\n",
    "notebook_dir = os.getcwd()\n",
    "parent_dir = os.path.abspath(os.path.join(notebook_dir, \"..\"))\n",
    "\n",
    "# Add the 'scripts' folder to the system path\n",
    "scripts_path = os.path.join(parent_dir, \"scripts\")\n",
    "sys.path.append(scripts_path)\n",
    "\n",
    "# Verify if the path is added correctly\n",
    "print(\"Scripts Path:\", scripts_path)\n",
    "\n",
    "# Import cleaning functions\n",
    "from data_cleaning import (\n",
    "    drop_high_missing_columns,\n",
    "    fill_missing_values,\n",
    "    standardize_formats,\n",
    "    handle_outliers,\n",
    "    drop_constant_columns\n",
    ")\n",
    "\n",
    "# Load the dataset\n"
   ]
  },
  {
   "cell_type": "code",
   "execution_count": null,
   "metadata": {},
   "outputs": [],
   "source": [
    "# Step 1: Drop columns with excessive missing values\n",
    "data = drop_high_missing_columns(data)\n",
    "\n"
   ]
  },
  {
   "cell_type": "code",
   "execution_count": null,
   "metadata": {},
   "outputs": [],
   "source": [
    "# Step 2: filling missing  values \n",
    "fill_missing_values(data)\n"
   ]
  },
  {
   "cell_type": "code",
   "execution_count": null,
   "metadata": {},
   "outputs": [],
   "source": [
    "# Step 3: standardizing the date data  \n",
    "standardize_formats(data)"
   ]
  },
  {
   "cell_type": "code",
   "execution_count": null,
   "metadata": {},
   "outputs": [],
   "source": [
    "handle_outliers(data)"
   ]
  },
  {
   "cell_type": "code",
   "execution_count": null,
   "metadata": {},
   "outputs": [],
   "source": [
    "drop_constant_columns(data)"
   ]
  },
  {
   "cell_type": "code",
   "execution_count": 20,
   "metadata": {},
   "outputs": [
    {
     "name": "stdout",
     "output_type": "stream",
     "text": [
      "Data cleaning completed and saved!\n"
     ]
    }
   ],
   "source": [
    "\n",
    "# Save the cleaned data\n",
    "data.to_csv('../data/cleaned_machinelearning.csv', index=False)\n",
    "print(\"Data cleaning completed and saved!\")\n"
   ]
  },
  {
   "cell_type": "code",
   "execution_count": 14,
   "metadata": {},
   "outputs": [
    {
     "name": "stdout",
     "output_type": "stream",
     "text": [
      "       UnderwrittenCoverID      PolicyID    PostalCode        mmcode  \\\n",
      "count         1.000098e+06  1.000098e+06  1.000098e+06  9.995460e+05   \n",
      "mean          1.048175e+05  7.956682e+03  3.020601e+03  5.487770e+07   \n",
      "std           6.329371e+04  5.290039e+03  2.649854e+03  1.360381e+07   \n",
      "min           1.000000e+00  1.400000e+01  1.000000e+00  4.041200e+06   \n",
      "25%           5.514300e+04  4.500000e+03  8.270000e+02  6.005692e+07   \n",
      "50%           9.408300e+04  7.071000e+03  2.000000e+03  6.005842e+07   \n",
      "75%           1.391900e+05  1.107700e+04  4.180000e+03  6.005842e+07   \n",
      "max           3.011750e+05  2.324600e+04  9.870000e+03  6.506535e+07   \n",
      "\n",
      "       RegistrationYear      Cylinders  cubiccapacity      kilowatts  \\\n",
      "count      1.000098e+06  999546.000000  999546.000000  999546.000000   \n",
      "mean       2.010225e+03       4.046642    2466.743258      97.207919   \n",
      "std        3.261391e+00       0.294020     442.800640      19.393256   \n",
      "min        1.987000e+03       0.000000       0.000000       0.000000   \n",
      "25%        2.008000e+03       4.000000    2237.000000      75.000000   \n",
      "50%        2.011000e+03       4.000000    2694.000000     111.000000   \n",
      "75%        2.013000e+03       4.000000    2694.000000     111.000000   \n",
      "max        2.015000e+03      10.000000   12880.000000     309.000000   \n",
      "\n",
      "       NumberOfDoors  CustomValueEstimate    SumInsured  \\\n",
      "count  999546.000000         2.204560e+05  1.000098e+06   \n",
      "mean        4.019250         2.255311e+05  6.041727e+05   \n",
      "std         0.468314         5.645157e+05  1.508332e+06   \n",
      "min         0.000000         2.000000e+04  1.000000e-02   \n",
      "25%         4.000000         1.350000e+05  5.000000e+03   \n",
      "50%         4.000000         2.200000e+05  7.500000e+03   \n",
      "75%         4.000000         2.800000e+05  2.500000e+05   \n",
      "max         6.000000         2.655000e+07  1.263620e+07   \n",
      "\n",
      "       CalculatedPremiumPerTerm  TotalPremium   TotalClaims  \n",
      "count              1.000098e+06  1.000098e+06  1.000098e+06  \n",
      "mean               1.178757e+02  6.190550e+01  6.486119e+01  \n",
      "std                3.997017e+02  2.302845e+02  2.384075e+03  \n",
      "min                0.000000e+00 -7.825768e+02 -1.200241e+04  \n",
      "25%                3.224800e+00  0.000000e+00  0.000000e+00  \n",
      "50%                8.436900e+00  2.178333e+00  0.000000e+00  \n",
      "75%                9.000000e+01  2.192982e+01  0.000000e+00  \n",
      "max                7.442217e+04  6.528260e+04  3.930921e+05  \n"
     ]
    }
   ],
   "source": [
    "print(data.describe())"
   ]
  }
 ],
 "metadata": {
  "kernelspec": {
   "display_name": "base",
   "language": "python",
   "name": "python3"
  },
  "language_info": {
   "codemirror_mode": {
    "name": "ipython",
    "version": 3
   },
   "file_extension": ".py",
   "mimetype": "text/x-python",
   "name": "python",
   "nbconvert_exporter": "python",
   "pygments_lexer": "ipython3",
   "version": "3.12.7"
  }
 },
 "nbformat": 4,
 "nbformat_minor": 2
}
