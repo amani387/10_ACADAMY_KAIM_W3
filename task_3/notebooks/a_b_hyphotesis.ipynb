{
 "cells": [
  {
   "cell_type": "code",
   "execution_count": null,
   "metadata": {
    "vscode": {
     "languageId": "plaintext"
    }
   },
   "outputs": [],
   "source": [
    "import pandas as pd\n",
    "from segment_data import segment_data\n",
    "from t_test import t_test\n",
    "from chi_squared_test import chi_squared_test\n",
    "from interpret_results import interpret_results\n",
    "from plot_kpi_distribution import plot_kpi_distribution\n",
    "\n",
    "# Example Usage\n",
    "data = pd.read_csv(\"data.csv\")\n",
    "group_a, group_b = segment_data(data, 'gender', 'Male', 'Female')\n",
    "\n",
    "# T-Test\n",
    "p_value_t = t_test(group_a, group_b, 'profit_margin')\n",
    "print(\"T-Test P-Value:\", p_value_t)\n",
    "print(interpret_results(p_value_t))\n",
    "\n",
    "# Chi-Squared Test\n",
    "p_value_chi2 = chi_squared_test(data, 'province', 'claims')\n",
    "print(\"Chi-Squared P-Value:\", p_value_chi2)\n",
    "print(interpret_results(p_value_chi2))\n",
    "\n",
    "# Visualization\n",
    "plot_kpi_distribution(group_a, group_b, 'profit_margin', \"Male\", \"Female\")\n"
   ]
  }
 ],
 "metadata": {
  "language_info": {
   "name": "python"
  }
 },
 "nbformat": 4,
 "nbformat_minor": 2
}
